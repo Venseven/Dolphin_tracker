{
 "cells": [
  {
   "cell_type": "code",
   "execution_count": 1,
   "metadata": {},
   "outputs": [
    {
     "name": "stdout",
     "output_type": "stream",
     "text": [
      "/scratch2/devashree/venv/bin/python3\n"
     ]
    }
   ],
   "source": [
    "!which python3"
   ]
  },
  {
   "cell_type": "code",
   "execution_count": 1,
   "metadata": {},
   "outputs": [],
   "source": [
    "from ultralytics import YOLO"
   ]
  },
  {
   "cell_type": "code",
   "execution_count": 2,
   "metadata": {},
   "outputs": [],
   "source": [
    "model = YOLO(\"/scratch2/devashree/yolov8/datasets/runs/detect/yolov8m/weights/best.pt\")"
   ]
  },
  {
   "cell_type": "code",
   "execution_count": null,
   "metadata": {},
   "outputs": [],
   "source": [
    "results = model(source=..., stream=True)  # generator of Results objects\n",
    "for r in results:\n",
    "        boxes = r.boxes "
   ]
  },
  {
   "cell_type": "code",
   "execution_count": 16,
   "metadata": {},
   "outputs": [
    {
     "name": "stderr",
     "output_type": "stream",
     "text": [
      "\n",
      "image 1/24 /scratch2/devashree/yolov8/images/DJI_0401_000031.jpg: 352x640 2 dolphins, 11.0ms\n",
      "image 2/24 /scratch2/devashree/yolov8/images/DJI_0401_000032.jpg: 352x640 2 dolphins, 10.1ms\n",
      "image 3/24 /scratch2/devashree/yolov8/images/DJI_0401_000033.jpg: 352x640 2 dolphins, 10.1ms\n",
      "image 4/24 /scratch2/devashree/yolov8/images/DJI_0401_000034.jpg: 352x640 2 dolphins, 10.1ms\n",
      "image 5/24 /scratch2/devashree/yolov8/images/DJI_0401_000035.jpg: 352x640 2 dolphins, 10.1ms\n",
      "image 6/24 /scratch2/devashree/yolov8/images/DJI_0401_000036.jpg: 352x640 2 dolphins, 10.1ms\n",
      "image 7/24 /scratch2/devashree/yolov8/images/DJI_0401_000037.jpg: 352x640 2 dolphins, 10.1ms\n",
      "image 8/24 /scratch2/devashree/yolov8/images/DJI_0401_000038.jpg: 352x640 2 dolphins, 10.1ms\n",
      "image 9/24 /scratch2/devashree/yolov8/images/DJI_0401_000039.jpg: 352x640 2 dolphins, 10.2ms\n",
      "image 10/24 /scratch2/devashree/yolov8/images/DJI_0401_000040.jpg: 352x640 2 dolphins, 10.2ms\n",
      "image 11/24 /scratch2/devashree/yolov8/images/DJI_0401_000041.jpg: 352x640 2 dolphins, 10.2ms\n",
      "image 12/24 /scratch2/devashree/yolov8/images/DJI_0401_000042.jpg: 352x640 2 dolphins, 10.2ms\n",
      "image 13/24 /scratch2/devashree/yolov8/images/DJI_0401_000043.jpg: 352x640 2 dolphins, 10.2ms\n",
      "image 14/24 /scratch2/devashree/yolov8/images/DJI_0401_000044.jpg: 352x640 2 dolphins, 10.2ms\n",
      "image 15/24 /scratch2/devashree/yolov8/images/DJI_0401_000045.jpg: 352x640 2 dolphins, 10.2ms\n",
      "image 16/24 /scratch2/devashree/yolov8/images/DJI_0401_000046.jpg: 352x640 2 dolphins, 10.2ms\n",
      "image 17/24 /scratch2/devashree/yolov8/images/DJI_0401_000047.jpg: 352x640 2 dolphins, 10.2ms\n",
      "image 18/24 /scratch2/devashree/yolov8/images/DJI_0401_000048.jpg: 352x640 2 dolphins, 10.2ms\n",
      "image 19/24 /scratch2/devashree/yolov8/images/DJI_0401_000049.jpg: 352x640 2 dolphins, 10.2ms\n",
      "image 20/24 /scratch2/devashree/yolov8/images/DJI_0401_000050.jpg: 352x640 2 dolphins, 10.2ms\n",
      "image 21/24 /scratch2/devashree/yolov8/images/DJI_0401_000051.jpg: 352x640 2 dolphins, 10.2ms\n",
      "image 22/24 /scratch2/devashree/yolov8/images/DJI_0401_000052.jpg: 352x640 2 dolphins, 10.2ms\n",
      "image 23/24 /scratch2/devashree/yolov8/images/DJI_0401_000053.jpg: 352x640 2 dolphins, 10.2ms\n",
      "image 24/24 /scratch2/devashree/yolov8/images/DJI_0401_000054.jpg: 352x640 2 dolphins, 10.2ms\n",
      "Speed: 2.6ms preprocess, 10.2ms inference, 1.2ms postprocess per image at shape (1, 3, 352, 640)\n"
     ]
    }
   ],
   "source": [
    "results =  model.track(source = \"/scratch2/devashree/yolov8/images/\", tracker = \"bytetrack.yaml\")"
   ]
  },
  {
   "cell_type": "code",
   "execution_count": 17,
   "metadata": {},
   "outputs": [],
   "source": [
    "\n",
    "# Save results in MOTChallenge format (frame, id, bbox, conf)\n",
    "with open('track_results_new.txt', 'w') as f:\n",
    "    for frame_id, result in enumerate(results):\n",
    "        for box in result.boxes:\n",
    "            if box.id:\n",
    "                bbox = box.xyxyn[0].tolist()  # Convert from tensor to list\n",
    "                track_id = box.id.item()  # Get track id\n",
    "                conf = box.conf.item()  # Get confidence score\n",
    "                f.write(f'{frame_id+1},{track_id},{bbox[0]},{bbox[1]},{bbox[2]-bbox[0]},{bbox[3]-bbox[1]},-1,-1,{conf}\\n')"
   ]
  },
  {
   "cell_type": "code",
   "execution_count": 13,
   "metadata": {},
   "outputs": [],
   "source": [
    "c = 0\n",
    "for frame_id, result in enumerate(results):\n",
    "        for box in result.boxes:\n",
    "            bbox = box.xyxy[0].tolist()  # Convert from tensor to list\n",
    "            if  box.id:\n",
    "                c = c + 1\n",
    "                break\n"
   ]
  },
  {
   "cell_type": "code",
   "execution_count": 14,
   "metadata": {},
   "outputs": [
    {
     "data": {
      "text/plain": [
       "500"
      ]
     },
     "execution_count": 14,
     "metadata": {},
     "output_type": "execute_result"
    }
   ],
   "source": [
    "c"
   ]
  },
  {
   "cell_type": "code",
   "execution_count": 21,
   "metadata": {},
   "outputs": [
    {
     "data": {
      "text/plain": [
       "ultralytics.engine.results.Results object with attributes:\n",
       "\n",
       "boxes: ultralytics.engine.results.Boxes object\n",
       "keypoints: None\n",
       "masks: None\n",
       "names: {0: 'dolphin'}\n",
       "orig_img: array([[[154, 166,  94],\n",
       "        [146, 158,  86],\n",
       "        [147, 159,  87],\n",
       "        ...,\n",
       "        [136, 155,  76],\n",
       "        [136, 155,  76],\n",
       "        [136, 155,  76]],\n",
       "\n",
       "       [[154, 166,  94],\n",
       "        [150, 162,  90],\n",
       "        [151, 163,  91],\n",
       "        ...,\n",
       "        [139, 158,  79],\n",
       "        [138, 157,  78],\n",
       "        [137, 156,  77]],\n",
       "\n",
       "       [[148, 160,  88],\n",
       "        [149, 161,  89],\n",
       "        [151, 163,  91],\n",
       "        ...,\n",
       "        [140, 159,  80],\n",
       "        [139, 158,  79],\n",
       "        [139, 158,  79]],\n",
       "\n",
       "       ...,\n",
       "\n",
       "       [[146, 157, 111],\n",
       "        [146, 157, 111],\n",
       "        [146, 157, 111],\n",
       "        ...,\n",
       "        [180, 188, 147],\n",
       "        [178, 186, 145],\n",
       "        [176, 184, 143]],\n",
       "\n",
       "       [[146, 157, 111],\n",
       "        [146, 157, 111],\n",
       "        [146, 157, 111],\n",
       "        ...,\n",
       "        [177, 185, 144],\n",
       "        [176, 184, 143],\n",
       "        [176, 184, 143]],\n",
       "\n",
       "       [[145, 156, 110],\n",
       "        [146, 157, 111],\n",
       "        [146, 157, 111],\n",
       "        ...,\n",
       "        [170, 178, 137],\n",
       "        [171, 179, 138],\n",
       "        [172, 180, 139]]], dtype=uint8)\n",
       "orig_shape: (2160, 4096)\n",
       "path: '/scratch2/devashree/yolov8/images/DJI_0401_000031.jpg'\n",
       "probs: None\n",
       "save_dir: None\n",
       "speed: {'preprocess': 19.162416458129883, 'inference': 11.024713516235352, 'postprocess': 1.5633106231689453}"
      ]
     },
     "execution_count": 21,
     "metadata": {},
     "output_type": "execute_result"
    }
   ],
   "source": [
    "results[0]"
   ]
  },
  {
   "cell_type": "code",
   "execution_count": 35,
   "metadata": {},
   "outputs": [
    {
     "name": "stdout",
     "output_type": "stream",
     "text": [
      "Files have been combined into combined_output.txt\n"
     ]
    }
   ],
   "source": [
    "import os\n",
    "\n",
    "# Directory containing the text files\n",
    "directory = '/scratch2/devashree/yolov8/labels'\n",
    "\n",
    "# Output file where all contents will be combined\n",
    "output_file = 'combined_output.txt'\n",
    "\n",
    "# List all files in the directory\n",
    "files = [f for f in os.listdir(directory) if f.endswith('.txt')]\n",
    "\n",
    "# Sort files by name (optional)\n",
    "files.sort()\n",
    "\n",
    "# Open the output file\n",
    "with open(output_file, 'w') as outfile:\n",
    "    # Process each file\n",
    "    for i, filename in enumerate(files, start=1):\n",
    "        # Create the full path to the file\n",
    "        filepath = os.path.join(directory, filename)\n",
    "        # Open the text file\n",
    "        with open(filepath, 'r') as infile:\n",
    "            # Read the content of the file\n",
    "            content = infile.read()\n",
    "            content = [f\"{i},\"+\",\".join(x.split(\" \")) for x in  content.split(\"\\n\")]\n",
    "            content = \"\\n\".join(content)\n",
    "            # Write the content to the output file, including the file number\n",
    "            outfile.write(f\"{content}\\n\")\n",
    "            # break\n",
    "\n",
    "print(\"Files have been combined into\", output_file)\n"
   ]
  },
  {
   "cell_type": "code",
   "execution_count": 31,
   "metadata": {},
   "outputs": [
    {
     "data": {
      "text/plain": [
       "['1,0,0.5125015500992063,0.40593768371546146,0.0688360141241891,0.1053852138949613',\n",
       " '1,0,0.472198970734127,0.4878747795414462,0.048440600198412676,0.03380364491475597']"
      ]
     },
     "execution_count": 31,
     "metadata": {},
     "output_type": "execute_result"
    }
   ],
   "source": [
    "# [\"1\" + i for i in content.split(\"\\n\")]\n",
    "[\"1,\"+\",\".join(i.split(\" \")) for i in  content.split(\"\\n\")]"
   ]
  },
  {
   "cell_type": "code",
   "execution_count": 29,
   "metadata": {},
   "outputs": [
    {
     "data": {
      "text/plain": [
       "'0 0.5125015500992063 0.40593768371546146 0.0688360141241891 0.1053852138949613'"
      ]
     },
     "execution_count": 29,
     "metadata": {},
     "output_type": "execute_result"
    }
   ],
   "source": [
    "content.split(\"\\n\")[0]"
   ]
  },
  {
   "cell_type": "code",
   "execution_count": null,
   "metadata": {},
   "outputs": [],
   "source": []
  }
 ],
 "metadata": {
  "kernelspec": {
   "display_name": "venv",
   "language": "python",
   "name": "python3"
  },
  "language_info": {
   "codemirror_mode": {
    "name": "ipython",
    "version": 3
   },
   "file_extension": ".py",
   "mimetype": "text/x-python",
   "name": "python",
   "nbconvert_exporter": "python",
   "pygments_lexer": "ipython3",
   "version": "3.9.12"
  },
  "orig_nbformat": 4
 },
 "nbformat": 4,
 "nbformat_minor": 2
}
